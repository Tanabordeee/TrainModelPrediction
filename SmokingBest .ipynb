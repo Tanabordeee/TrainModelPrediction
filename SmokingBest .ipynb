{
  "metadata": {
    "kernelspec": {
      "language": "python",
      "display_name": "Python 3",
      "name": "python3"
    },
    "language_info": {
      "name": "python",
      "version": "3.10.12",
      "mimetype": "text/x-python",
      "codemirror_mode": {
        "name": "ipython",
        "version": 3
      },
      "pygments_lexer": "ipython3",
      "nbconvert_exporter": "python",
      "file_extension": ".py"
    },
    "kaggle": {
      "accelerator": "none",
      "dataSources": [
        {
          "sourceId": 6981583,
          "sourceType": "datasetVersion",
          "datasetId": 4012063
        }
      ],
      "dockerImageVersionId": 30918,
      "isInternetEnabled": true,
      "language": "python",
      "sourceType": "notebook",
      "isGpuEnabled": false
    },
    "colab": {
      "name": "SmokingBest",
      "provenance": []
    }
  },
  "nbformat_minor": 0,
  "nbformat": 4,
  "cells": [
    {
      "source": [
        "# IMPORTANT: RUN THIS CELL IN ORDER TO IMPORT YOUR KAGGLE DATA SOURCES,\n",
        "# THEN FEEL FREE TO DELETE THIS CELL.\n",
        "# NOTE: THIS NOTEBOOK ENVIRONMENT DIFFERS FROM KAGGLE'S PYTHON\n",
        "# ENVIRONMENT SO THERE MAY BE MISSING LIBRARIES USED BY YOUR\n",
        "# NOTEBOOK.\n",
        "import kagglehub\n",
        "sujaykapadnis_smoking_path = kagglehub.dataset_download('sujaykapadnis/smoking')\n",
        "\n",
        "print('Data source import complete.')\n"
      ],
      "metadata": {
        "id": "HT59E81mMBuO"
      },
      "cell_type": "code",
      "outputs": [],
      "execution_count": null
    },
    {
      "cell_type": "code",
      "source": [],
      "metadata": {
        "_uuid": "7173bb7c-e4e7-4386-8898-c8a4f7a67f09",
        "_cell_guid": "ace46a97-bcfd-4ff6-948f-9bfa55791557",
        "trusted": true,
        "jupyter": {
          "outputs_hidden": false
        },
        "id": "1cQgI3mPMBuP"
      },
      "outputs": [],
      "execution_count": null
    },
    {
      "cell_type": "code",
      "source": [
        "import pandas as pd\n",
        "import numpy as np\n",
        "import joblib\n",
        "import shutil\n",
        "import os\n",
        "import sys\n",
        "import zipfile\n",
        "\n",
        "import random\n",
        "\n",
        "\n",
        "import matplotlib.pyplot as plt\n",
        "from matplotlib.colors import LinearSegmentedColormap\n",
        "import seaborn as sns\n",
        "\n",
        "\n",
        "import plotly.express as px\n",
        "import plotly.graph_objs as go\n",
        "from plotly.subplots import make_subplots\n",
        "\n",
        "\n",
        "from PIL import Image\n",
        "\n",
        "\n",
        "import copy\n",
        "from tensorflow.keras.optimizers import Adamax\n",
        "from tensorflow.keras.layers import BatchNormalization, GlobalAveragePooling2D, Dropout, Dense\n",
        "from tensorflow.keras import regularizers\n",
        "from tensorflow.keras.applications import MobileNetV2\n",
        "from tensorflow.keras import layers, models\n",
        "from tensorflow.keras.optimizers import Adam\n",
        "import tensorflow as tf\n",
        "from tensorflow.keras import layers\n",
        "from tensorflow.keras.preprocessing.image import ImageDataGenerator\n",
        "from tensorflow.keras.preprocessing import image\n",
        "from sklearn.model_selection import train_test_split\n",
        "from keras.callbacks import EarlyStopping\n",
        "from sklearn.metrics import accuracy_score, classification_report, confusion_matrix\n",
        "from tensorflow.keras.callbacks import ReduceLROnPlateau\n",
        "from tensorflow.keras.optimizers.schedules import CosineDecay"
      ],
      "metadata": {
        "_uuid": "034d5124-7d74-4abe-a6e5-257e276bc16d",
        "_cell_guid": "ba0590c0-c055-480a-9ecd-63bef15c91a2",
        "trusted": true,
        "jupyter": {
          "outputs_hidden": false
        },
        "execution": {
          "iopub.status.busy": "2025-02-21T13:35:30.788535Z",
          "iopub.execute_input": "2025-02-21T13:35:30.788917Z",
          "iopub.status.idle": "2025-02-21T13:35:30.796732Z",
          "shell.execute_reply.started": "2025-02-21T13:35:30.788845Z",
          "shell.execute_reply": "2025-02-21T13:35:30.795145Z"
        },
        "id": "-3qLrNCyMBuP"
      },
      "outputs": [],
      "execution_count": null
    },
    {
      "cell_type": "code",
      "source": [
        "#กำหนด path\n",
        "Training_path = \"/kaggle/input/smoking/Training/Training\"\n",
        "Validation_path = \"/kaggle/input/smoking/Validation/Validation\"\n",
        "Test_path = \"/kaggle/input/smoking/Testing/Testing\""
      ],
      "metadata": {
        "_uuid": "42dd987d-759a-41ac-85e9-652fa22f26e3",
        "_cell_guid": "35fe80c2-d30d-40d0-8bbc-5f236a17b165",
        "trusted": true,
        "jupyter": {
          "outputs_hidden": false
        },
        "execution": {
          "iopub.status.busy": "2025-02-21T12:26:34.235951Z",
          "iopub.execute_input": "2025-02-21T12:26:34.236531Z",
          "iopub.status.idle": "2025-02-21T12:26:34.240607Z",
          "shell.execute_reply.started": "2025-02-21T12:26:34.236501Z",
          "shell.execute_reply": "2025-02-21T12:26:34.239545Z"
        },
        "id": "FfEyu6EyMBuQ"
      },
      "outputs": [],
      "execution_count": null
    },
    {
      "cell_type": "code",
      "source": [
        "# โหลดข้อมูลจาก folder\n",
        "def loaddata(folder):\n",
        "    data = []\n",
        "    labels = []\n",
        "    #loop หา file ท้ายด้วยย .jpg หรือ .png\n",
        "    for filename in os.listdir(folder):\n",
        "        if filename.endswith(\".jpg\") or filename.endswith(\".png\"):\n",
        "            #กำหนด label แยกหา smoking กับ notsmoking\n",
        "            label = filename.split(\"_\")[0]\n",
        "            if label in [\"smoking\" , \"notsmoking\"]:\n",
        "                    file_path = os.path.join(folder, filename)\n",
        "                    data.append(file_path)\n",
        "                    labels.append(label)\n",
        "    # ส่ง dataframe ออกไป\n",
        "    return pd.DataFrame({'path': data, 'label': labels})"
      ],
      "metadata": {
        "_uuid": "fe40f845-a9af-498a-b34f-8e16da976d9c",
        "_cell_guid": "c622d8d0-c0ae-44de-8c6b-19c231ca8928",
        "trusted": true,
        "jupyter": {
          "outputs_hidden": false
        },
        "execution": {
          "iopub.status.busy": "2025-02-21T12:26:34.242484Z",
          "iopub.execute_input": "2025-02-21T12:26:34.242732Z",
          "iopub.status.idle": "2025-02-21T12:26:34.26422Z",
          "shell.execute_reply.started": "2025-02-21T12:26:34.242712Z",
          "shell.execute_reply": "2025-02-21T12:26:34.262809Z"
        },
        "id": "a0P8rz7gMBuQ"
      },
      "outputs": [],
      "execution_count": null
    },
    {
      "cell_type": "code",
      "source": [
        "train_data = loaddata(Training_path)\n",
        "val_data = loaddata(Validation_path)\n",
        "test_data = loaddata(Test_path)"
      ],
      "metadata": {
        "_uuid": "67398b8d-8150-41f2-9eac-e9c380b87763",
        "_cell_guid": "bdde7124-ab1c-4dc9-b696-23b3fa79642d",
        "trusted": true,
        "jupyter": {
          "outputs_hidden": false
        },
        "execution": {
          "iopub.status.busy": "2025-02-21T12:26:34.265417Z",
          "iopub.execute_input": "2025-02-21T12:26:34.265663Z",
          "iopub.status.idle": "2025-02-21T12:26:34.300677Z",
          "shell.execute_reply.started": "2025-02-21T12:26:34.265637Z",
          "shell.execute_reply": "2025-02-21T12:26:34.299217Z"
        },
        "id": "SaC3BCGlMBuQ"
      },
      "outputs": [],
      "execution_count": null
    },
    {
      "cell_type": "code",
      "source": [
        "train_data.head() #เริ่มดูข้อมูลจากหัวว่ามีไรบ้าง"
      ],
      "metadata": {
        "_uuid": "c29112d0-24b8-44d2-8f5e-4da39d4014c0",
        "_cell_guid": "a1cf37d2-3587-4932-93c2-c2ea39233a91",
        "trusted": true,
        "jupyter": {
          "outputs_hidden": false
        },
        "execution": {
          "iopub.status.busy": "2025-02-21T12:26:34.301889Z",
          "iopub.execute_input": "2025-02-21T12:26:34.302271Z",
          "iopub.status.idle": "2025-02-21T12:26:34.319805Z",
          "shell.execute_reply.started": "2025-02-21T12:26:34.302243Z",
          "shell.execute_reply": "2025-02-21T12:26:34.318277Z"
        },
        "id": "1O_LesL6MBuQ"
      },
      "outputs": [],
      "execution_count": null
    },
    {
      "cell_type": "code",
      "source": [
        "train_data.tail() #เริ่มดูข้อมูลจากหางว่ามีไรบ้าง"
      ],
      "metadata": {
        "_uuid": "04aa06fc-bd43-451a-9df1-73ecb128bfb0",
        "_cell_guid": "1f9a86dd-54ed-4f0d-a28f-e9237361c2ed",
        "trusted": true,
        "jupyter": {
          "outputs_hidden": false
        },
        "execution": {
          "iopub.status.busy": "2025-02-21T12:26:34.321016Z",
          "iopub.execute_input": "2025-02-21T12:26:34.321366Z",
          "iopub.status.idle": "2025-02-21T12:26:34.344358Z",
          "shell.execute_reply.started": "2025-02-21T12:26:34.321332Z",
          "shell.execute_reply": "2025-02-21T12:26:34.34303Z"
        },
        "id": "K15o2YoDMBuQ"
      },
      "outputs": [],
      "execution_count": null
    },
    {
      "cell_type": "code",
      "source": [
        "val_data.head()"
      ],
      "metadata": {
        "_uuid": "7cdfa0e2-3b91-4085-9042-9729f3cd5610",
        "_cell_guid": "3508ac88-6b0e-4646-8944-03037b98d9ad",
        "trusted": true,
        "jupyter": {
          "outputs_hidden": false
        },
        "execution": {
          "iopub.status.busy": "2025-02-21T12:26:34.345581Z",
          "iopub.execute_input": "2025-02-21T12:26:34.346026Z",
          "iopub.status.idle": "2025-02-21T12:26:34.373444Z",
          "shell.execute_reply.started": "2025-02-21T12:26:34.345986Z",
          "shell.execute_reply": "2025-02-21T12:26:34.372058Z"
        },
        "id": "Ypuqf2vWMBuR"
      },
      "outputs": [],
      "execution_count": null
    },
    {
      "cell_type": "code",
      "source": [
        "test_data.head()"
      ],
      "metadata": {
        "_uuid": "b73830d4-b54e-4cf8-9aea-cb5f595d0a4d",
        "_cell_guid": "6263f2d9-73d9-428f-b8b4-871018848d04",
        "trusted": true,
        "jupyter": {
          "outputs_hidden": false
        },
        "execution": {
          "iopub.status.busy": "2025-02-21T12:26:34.375213Z",
          "iopub.execute_input": "2025-02-21T12:26:34.375543Z",
          "iopub.status.idle": "2025-02-21T12:26:34.40836Z",
          "shell.execute_reply.started": "2025-02-21T12:26:34.375508Z",
          "shell.execute_reply": "2025-02-21T12:26:34.406883Z"
        },
        "id": "NaDCTWEsMBuR"
      },
      "outputs": [],
      "execution_count": null
    },
    {
      "cell_type": "code",
      "source": [
        "row , col = train_data.shape\n",
        "print(\"ROW : \",row)\n",
        "print(\"COL : \",col)"
      ],
      "metadata": {
        "_uuid": "b3eeb5aa-e73a-4565-aef5-41514c952d75",
        "_cell_guid": "6371830b-99fb-431c-ae99-59476cae3d9d",
        "trusted": true,
        "jupyter": {
          "outputs_hidden": false
        },
        "execution": {
          "iopub.status.busy": "2025-02-21T12:26:34.413126Z",
          "iopub.execute_input": "2025-02-21T12:26:34.413452Z",
          "iopub.status.idle": "2025-02-21T12:26:34.440139Z",
          "shell.execute_reply.started": "2025-02-21T12:26:34.413424Z",
          "shell.execute_reply": "2025-02-21T12:26:34.437266Z"
        },
        "id": "CQcIfuITMBuR"
      },
      "outputs": [],
      "execution_count": null
    },
    {
      "cell_type": "code",
      "source": [
        "row , col = val_data.shape\n",
        "print(\"ROW : \",row)\n",
        "print(\"COL : \",col)"
      ],
      "metadata": {
        "_uuid": "c7f6a94b-8bbd-48e4-93de-5531b8baf706",
        "_cell_guid": "429b697d-c4c5-422c-a5a5-029255e50512",
        "trusted": true,
        "jupyter": {
          "outputs_hidden": false
        },
        "execution": {
          "iopub.status.busy": "2025-02-21T12:26:34.441767Z",
          "iopub.execute_input": "2025-02-21T12:26:34.442061Z",
          "iopub.status.idle": "2025-02-21T12:26:34.470273Z",
          "shell.execute_reply.started": "2025-02-21T12:26:34.442041Z",
          "shell.execute_reply": "2025-02-21T12:26:34.469191Z"
        },
        "id": "wVnn1jNKMBuR"
      },
      "outputs": [],
      "execution_count": null
    },
    {
      "cell_type": "code",
      "source": [
        "row , col = test_data.shape\n",
        "print(\"ROW : \",row)\n",
        "print(\"COL : \",col)"
      ],
      "metadata": {
        "_uuid": "cd303bbe-84f8-4f10-a375-0abdb084516f",
        "_cell_guid": "e6ae6fda-fbaf-44e6-9813-fb79ac9bb373",
        "trusted": true,
        "jupyter": {
          "outputs_hidden": false
        },
        "execution": {
          "iopub.status.busy": "2025-02-21T12:26:34.471525Z",
          "iopub.execute_input": "2025-02-21T12:26:34.471902Z",
          "iopub.status.idle": "2025-02-21T12:26:34.494922Z",
          "shell.execute_reply.started": "2025-02-21T12:26:34.471843Z",
          "shell.execute_reply": "2025-02-21T12:26:34.493604Z"
        },
        "id": "QKaFbXqiMBuR"
      },
      "outputs": [],
      "execution_count": null
    },
    {
      "cell_type": "code",
      "source": [
        "#เอาชุดข้อมูลทั้งสามอันมารวมกัน\n",
        "combined_data = pd.concat([train_data, val_data, test_data], ignore_index=True)"
      ],
      "metadata": {
        "_uuid": "690f82b2-7a2f-4e24-9d26-c35a21fe94de",
        "_cell_guid": "413328c6-3975-47b7-b5ff-7954bbc65e3a",
        "trusted": true,
        "jupyter": {
          "outputs_hidden": false
        },
        "execution": {
          "iopub.status.busy": "2025-02-21T12:26:34.496104Z",
          "iopub.execute_input": "2025-02-21T12:26:34.496379Z",
          "iopub.status.idle": "2025-02-21T12:26:34.520602Z",
          "shell.execute_reply.started": "2025-02-21T12:26:34.496353Z",
          "shell.execute_reply": "2025-02-21T12:26:34.519449Z"
        },
        "id": "Mo2l63BuMBuR"
      },
      "outputs": [],
      "execution_count": null
    },
    {
      "cell_type": "code",
      "source": [
        "#ดู head มันหลังรวม\n",
        "combined_data.head()"
      ],
      "metadata": {
        "_uuid": "24776f6f-1e95-44fe-963c-37840aad2152",
        "_cell_guid": "ac42331e-5d7f-490b-bb7d-32b54d5b2d6d",
        "trusted": true,
        "jupyter": {
          "outputs_hidden": false
        },
        "execution": {
          "iopub.status.busy": "2025-02-21T12:26:34.521414Z",
          "iopub.execute_input": "2025-02-21T12:26:34.521755Z",
          "iopub.status.idle": "2025-02-21T12:26:34.548119Z",
          "shell.execute_reply.started": "2025-02-21T12:26:34.521723Z",
          "shell.execute_reply": "2025-02-21T12:26:34.547158Z"
        },
        "id": "0z1qZpnqMBuR"
      },
      "outputs": [],
      "execution_count": null
    },
    {
      "cell_type": "code",
      "source": [
        "# จำนวน row col หลังรวม\n",
        "rows, columns = combined_data.shape\n",
        "print(\"Number of rows:\", rows)\n",
        "print(\"Number of columns:\", columns)"
      ],
      "metadata": {
        "_uuid": "7ecc6cb8-5e56-4cea-b3b0-7a6868ac1328",
        "_cell_guid": "5098f671-5e92-479f-b8fb-0ef08959ed0f",
        "trusted": true,
        "jupyter": {
          "outputs_hidden": false
        },
        "execution": {
          "iopub.status.busy": "2025-02-21T12:26:34.549187Z",
          "iopub.execute_input": "2025-02-21T12:26:34.549512Z",
          "iopub.status.idle": "2025-02-21T12:26:34.572745Z",
          "shell.execute_reply.started": "2025-02-21T12:26:34.549484Z",
          "shell.execute_reply": "2025-02-21T12:26:34.57155Z"
        },
        "id": "m7PXOO9WMBuR"
      },
      "outputs": [],
      "execution_count": null
    },
    {
      "cell_type": "code",
      "source": [
        "# จากการดู info ทำให้รู้ว่า data type มันเป็น object\n",
        "combined_data.info()\n",
        "file_path = \"/kaggle/working/combined_data.csv\"\n",
        "combined_data.to_csv(file_path, index=False)  # index=False ไม่ต้องบันทึก index"
      ],
      "metadata": {
        "_uuid": "e9eb871e-bdee-48d4-a57a-42cc9e56c962",
        "_cell_guid": "9b979110-09c6-48fe-bea2-cd796f08fd00",
        "trusted": true,
        "jupyter": {
          "outputs_hidden": false
        },
        "execution": {
          "iopub.status.busy": "2025-02-21T12:26:34.573932Z",
          "iopub.execute_input": "2025-02-21T12:26:34.574238Z",
          "iopub.status.idle": "2025-02-21T12:26:34.606772Z",
          "shell.execute_reply.started": "2025-02-21T12:26:34.574212Z",
          "shell.execute_reply": "2025-02-21T12:26:34.60578Z"
        },
        "id": "Pit32KTvMBuS"
      },
      "outputs": [],
      "execution_count": null
    },
    {
      "cell_type": "code",
      "source": [
        "# แปลง data type to string\n",
        "combined_data['path'] = combined_data['path'].astype(str)\n",
        "combined_data['label'] = combined_data['label'].astype(str)"
      ],
      "metadata": {
        "_uuid": "49f49d2e-fb7c-46b0-835a-486f3bda15cf",
        "_cell_guid": "67d896f4-f5d8-499b-b2d5-695e243e80c1",
        "trusted": true,
        "jupyter": {
          "outputs_hidden": false
        },
        "execution": {
          "iopub.status.busy": "2025-02-21T12:26:34.607532Z",
          "iopub.execute_input": "2025-02-21T12:26:34.607789Z",
          "iopub.status.idle": "2025-02-21T12:26:34.627679Z",
          "shell.execute_reply.started": "2025-02-21T12:26:34.607765Z",
          "shell.execute_reply": "2025-02-21T12:26:34.626805Z"
        },
        "id": "3dWRglL2MBuS"
      },
      "outputs": [],
      "execution_count": null
    },
    {
      "cell_type": "code",
      "source": [
        "#หาค่าที่เป็น null\n",
        "combined_data.isnull().sum()"
      ],
      "metadata": {
        "_uuid": "f8d87aec-5b1f-4478-91c4-4100a16b92b8",
        "_cell_guid": "fc975657-8d58-4e6e-af7f-59c9de76642e",
        "trusted": true,
        "jupyter": {
          "outputs_hidden": false
        },
        "execution": {
          "iopub.status.busy": "2025-02-21T12:26:34.62845Z",
          "iopub.execute_input": "2025-02-21T12:26:34.628702Z",
          "iopub.status.idle": "2025-02-21T12:26:34.656896Z",
          "shell.execute_reply.started": "2025-02-21T12:26:34.62868Z",
          "shell.execute_reply": "2025-02-21T12:26:34.655332Z"
        },
        "id": "58AjFbXDMBuS"
      },
      "outputs": [],
      "execution_count": null
    },
    {
      "cell_type": "code",
      "source": [
        "custom_palette = {\n",
        "    'smoking': '#00040D',\n",
        "    'notsmoking': '#D24A56',\n",
        "}\n",
        "#นับจำนวนของแต่ละ label\n",
        "label_counts = combined_data['label'].value_counts().reset_index()\n",
        "label_counts.columns = ['label', 'count']\n",
        "\n",
        "#แสดงเป็นกราฟ\n",
        "fig = px.bar(label_counts,\n",
        "             x='label', y='count',\n",
        "             labels={'label': 'Label', 'count': 'Count'},\n",
        "             title='Distribution of Labels',\n",
        "             color='label',\n",
        "             color_discrete_map=custom_palette)\n",
        "\n",
        "fig.show()"
      ],
      "metadata": {
        "_uuid": "956471d3-bc78-400b-8243-aaaa8a0c9d03",
        "_cell_guid": "98ed8794-fa5b-4493-8540-e55416557585",
        "trusted": true,
        "jupyter": {
          "outputs_hidden": false
        },
        "execution": {
          "iopub.status.busy": "2025-02-21T12:26:34.657741Z",
          "iopub.execute_input": "2025-02-21T12:26:34.658056Z",
          "iopub.status.idle": "2025-02-21T12:26:35.006194Z",
          "shell.execute_reply.started": "2025-02-21T12:26:34.658023Z",
          "shell.execute_reply": "2025-02-21T12:26:35.005317Z"
        },
        "id": "fUTqFBQQMBuS"
      },
      "outputs": [],
      "execution_count": null
    },
    {
      "cell_type": "code",
      "source": [
        "# ทำการ สร้างตาราง encoding ข้อมูล not smoking กับ smoking ให้อยู่ในรูปแบบ 1 กับ 0 เพื่อให้นำมาใช้ได้ง่าย\n",
        "combined_data['label_encoded'] = combined_data['label'].map({'notsmoking': '0', 'smoking': '1'})"
      ],
      "metadata": {
        "_uuid": "1ca91b48-7205-4c4f-b5f7-26ada8e3d375",
        "_cell_guid": "53ff208e-e040-4396-9bc5-53863afc5b03",
        "trusted": true,
        "jupyter": {
          "outputs_hidden": false
        },
        "execution": {
          "iopub.status.busy": "2025-02-21T12:26:35.006974Z",
          "iopub.execute_input": "2025-02-21T12:26:35.007212Z",
          "iopub.status.idle": "2025-02-21T12:26:35.013312Z",
          "shell.execute_reply.started": "2025-02-21T12:26:35.007193Z",
          "shell.execute_reply": "2025-02-21T12:26:35.012026Z"
        },
        "id": "Fq8Er9qtMBuS"
      },
      "outputs": [],
      "execution_count": null
    },
    {
      "cell_type": "code",
      "source": [
        "combined_data.head()"
      ],
      "metadata": {
        "_uuid": "cb80bbbe-9377-49bd-8494-dc82a552bf95",
        "_cell_guid": "9fa31acd-fd0d-4c82-8ac9-6b3ba47bd58f",
        "trusted": true,
        "jupyter": {
          "outputs_hidden": false
        },
        "execution": {
          "iopub.status.busy": "2025-02-21T12:26:35.014505Z",
          "iopub.execute_input": "2025-02-21T12:26:35.014897Z",
          "iopub.status.idle": "2025-02-21T12:26:35.042075Z",
          "shell.execute_reply.started": "2025-02-21T12:26:35.014839Z",
          "shell.execute_reply": "2025-02-21T12:26:35.041144Z"
        },
        "id": "JoJF2M4tMBuS"
      },
      "outputs": [],
      "execution_count": null
    },
    {
      "cell_type": "code",
      "source": [
        "# แบ่งข้อมูลข้อมูลออกมาเป็น train data กับ temp data จาก combined_data โดยอิงตาม column\n",
        "# label_encoded\n",
        "train_data, temp_data = train_test_split(combined_data,\n",
        "                                         test_size=0.3,\n",
        "                                         stratify=combined_data['label_encoded'],\n",
        "                                         random_state=42)\n",
        "# แบ่งข้อมูลจาก tempdata ออกมาไว้เป็น validation กับ test\n",
        "val_data, test_data = train_test_split(temp_data,\n",
        "                                       test_size=0.5,\n",
        "                                       stratify=temp_data['label_encoded'],\n",
        "                                       random_state=42)"
      ],
      "metadata": {
        "_uuid": "116288f4-ed3a-44df-9e18-6782716a865c",
        "_cell_guid": "04a88203-5402-4ae8-a184-7d8613f21e54",
        "trusted": true,
        "jupyter": {
          "outputs_hidden": false
        },
        "execution": {
          "iopub.status.busy": "2025-02-21T12:26:35.043341Z",
          "iopub.execute_input": "2025-02-21T12:26:35.043903Z",
          "iopub.status.idle": "2025-02-21T12:26:35.071316Z",
          "shell.execute_reply.started": "2025-02-21T12:26:35.043839Z",
          "shell.execute_reply": "2025-02-21T12:26:35.069947Z"
        },
        "id": "9QyToX5xMBuS"
      },
      "outputs": [],
      "execution_count": null
    },
    {
      "cell_type": "code",
      "source": [
        "train_datagen = ImageDataGenerator(\n",
        "    rescale=1./255,  # Normalize ภาพ\n",
        "    rotation_range=40,\n",
        "    width_shift_range=0.2,\n",
        "    height_shift_range=0.2,\n",
        "    shear_range=0.2,\n",
        "    zoom_range=0.2,\n",
        "    horizontal_flip=True,\n",
        "    fill_mode='nearest'\n",
        ")\n",
        "# ทำการ rescale ภาพ\n",
        "test_datagen = ImageDataGenerator(rescale=1./255)\n",
        "val_datagen = ImageDataGenerator(rescale=1./255)\n",
        "#โหลดข้อมูลจาก DataFrame เตรียมข้อมูล และ validation\n",
        "train_generator = train_datagen.flow_from_dataframe(\n",
        "    train_data,\n",
        "    x_col='path',\n",
        "    y_col='label_encoded',\n",
        "    target_size=(224, 224),  # Change from 224x224 to 224x224\n",
        "    batch_size=32,\n",
        "    class_mode='binary'\n",
        ")\n",
        "\n",
        "val_generator = test_datagen.flow_from_dataframe(\n",
        "    val_data,\n",
        "    x_col='path',\n",
        "    y_col='label_encoded',\n",
        "    target_size=(224, 224),  # Change from 224x224 to 224x224\n",
        "    batch_size=32,\n",
        "    class_mode='binary'\n",
        ")\n",
        "\n",
        "test_generator = test_datagen.flow_from_dataframe(\n",
        "    test_data,\n",
        "    x_col='path',\n",
        "    y_col='label_encoded',\n",
        "    target_size=(224, 224),  # Change from 224x224 to 224x224\n",
        "    batch_size=32,\n",
        "    class_mode='binary'\n",
        ")"
      ],
      "metadata": {
        "_uuid": "402355b4-e6d9-457d-b26c-d5d3f7deb763",
        "_cell_guid": "9be6b73c-5e3b-4f35-8a9a-b83e474b481a",
        "trusted": true,
        "execution": {
          "iopub.status.busy": "2025-02-21T13:31:50.981397Z",
          "iopub.execute_input": "2025-02-21T13:31:50.981778Z",
          "iopub.status.idle": "2025-02-21T13:31:52.071365Z",
          "shell.execute_reply.started": "2025-02-21T13:31:50.981743Z",
          "shell.execute_reply": "2025-02-21T13:31:52.069667Z"
        },
        "id": "YskTfzFcMBuS"
      },
      "outputs": [],
      "execution_count": null
    },
    {
      "cell_type": "code",
      "source": [],
      "metadata": {
        "_uuid": "70c3416a-7a46-45bc-9c82-b7cd211335b2",
        "_cell_guid": "f9791023-d1cf-410c-b894-f6b29465af81",
        "trusted": true,
        "jupyter": {
          "outputs_hidden": false
        },
        "execution": {
          "iopub.status.busy": "2025-02-21T13:35:10.309929Z",
          "iopub.execute_input": "2025-02-21T13:35:10.310345Z",
          "iopub.status.idle": "2025-02-21T13:35:10.317345Z",
          "shell.execute_reply.started": "2025-02-21T13:35:10.310307Z",
          "shell.execute_reply": "2025-02-21T13:35:10.315999Z"
        },
        "id": "QIv6uOV4MBuS"
      },
      "outputs": [],
      "execution_count": null
    },
    {
      "cell_type": "code",
      "source": [
        "# โหลด model MobileNetV2\n",
        "base_model = MobileNetV2(weights='imagenet', include_top=False, input_shape=(224, 224, 3))\n",
        "# Freeze layers ของ MobileNetV2 เพื่อลดการใช้พลังการคำนวณ\n",
        "base_model.trainable = False\n",
        "\n",
        "# สร้าง model\n",
        "model = models.Sequential([\n",
        "    base_model,\n",
        "    layers.GlobalAveragePooling2D(),\n",
        "    layers.Dense(1, activation='sigmoid')\n",
        "])\n",
        "\n",
        "model.compile(optimizer=Adam(learning_rate=0.001), loss='binary_crossentropy', metrics=['accuracy'])\n",
        "\n",
        "# สร้าง EarlyStopping\n",
        "early_stopping = EarlyStopping(monitor='val_loss', patience=5, restore_best_weights=True)\n",
        "\n",
        "# ฝึกโมเดล\n",
        "history = model.fit(\n",
        "    train_generator,\n",
        "    epochs=20,\n",
        "    validation_data=val_generator,\n",
        "    batch_size=32,\n",
        "    callbacks=[early_stopping]\n",
        ")"
      ],
      "metadata": {
        "_uuid": "b1953be5-fa36-40c6-a55d-ddc3d00e8139",
        "_cell_guid": "68f5f44d-4d03-48d8-9fb3-fa49e893176d",
        "trusted": true,
        "jupyter": {
          "outputs_hidden": false
        },
        "execution": {
          "iopub.status.busy": "2025-02-21T13:38:30.998695Z",
          "iopub.execute_input": "2025-02-21T13:38:30.999112Z",
          "iopub.status.idle": "2025-02-21T13:45:32.791007Z",
          "shell.execute_reply.started": "2025-02-21T13:38:30.999083Z",
          "shell.execute_reply": "2025-02-21T13:45:32.78942Z"
        },
        "id": "HSMGJVe9MBuS"
      },
      "outputs": [],
      "execution_count": null
    },
    {
      "cell_type": "code",
      "source": [
        "# ทำการ unfreeze บางเลเยอร์เพื่อฝึกต่อจากโมเดลที่ pre-trained\n",
        "base_model.trainable = True\n",
        "fine_tune_at = 100  # ตัวอย่างนี้จะ unfrezed 100 เลเยอร์\n",
        "for layer in base_model.layers[:fine_tune_at]:\n",
        "    layer.trainable = False\n",
        "\n",
        "model.compile(optimizer=Adam(learning_rate=0.00001), loss='binary_crossentropy', metrics=['accuracy'])\n",
        "\n",
        "\n",
        "# ฝึกโมเดลใหม่\n",
        "history_fine_tune = model.fit(\n",
        "    train_generator,\n",
        "    epochs=20,\n",
        "    validation_data=val_generator,\n",
        "    batch_size=32,\n",
        "    callbacks=[early_stopping]\n",
        ")\n",
        "model.save('/kaggle/working/smoking_detection_model.h5', save_format='h5')"
      ],
      "metadata": {
        "_uuid": "193ef084-3f3d-424b-bd5c-8cd666db31b6",
        "_cell_guid": "f54b615e-f0d0-4282-abc5-3c97fba0dca9",
        "trusted": true,
        "jupyter": {
          "outputs_hidden": false
        },
        "execution": {
          "iopub.status.busy": "2025-02-21T13:21:56.918304Z",
          "iopub.execute_input": "2025-02-21T13:21:56.918616Z",
          "iopub.status.idle": "2025-02-21T13:24:42.810327Z",
          "shell.execute_reply.started": "2025-02-21T13:21:56.918589Z",
          "shell.execute_reply": "2025-02-21T13:24:42.809474Z"
        },
        "id": "OPtzsjL2MBuS"
      },
      "outputs": [],
      "execution_count": null
    },
    {
      "cell_type": "code",
      "source": [
        "'''\n",
        "def apply_quantization(model):\n",
        "    converter = tf.lite.TFLiteConverter.from_keras_model(model)\n",
        "    converter.optimizations = [tf.lite.Optimize.DEFAULT]\n",
        "    tflite_model = converter.convert()\n",
        "    return tflite_model\n",
        "\n",
        "quantized_model = apply_quantization(model)\n",
        "quantized_model_path = '/kaggle/working/smoking_detection_model_quantized.tflite'\n",
        "with open(quantized_model_path, 'wb') as f:\n",
        "    f.write(quantized_model)\n",
        "'''"
      ],
      "metadata": {
        "_uuid": "b492b461-1cb0-4963-b9dc-76ea2beb0251",
        "_cell_guid": "2f05bcfa-b31d-4a34-acac-a3c8bfef0f6d",
        "trusted": true,
        "jupyter": {
          "outputs_hidden": false
        },
        "execution": {
          "iopub.status.busy": "2025-02-21T12:29:54.228883Z",
          "iopub.execute_input": "2025-02-21T12:29:54.229264Z",
          "iopub.status.idle": "2025-02-21T12:29:54.235647Z",
          "shell.execute_reply.started": "2025-02-21T12:29:54.229227Z",
          "shell.execute_reply": "2025-02-21T12:29:54.234645Z"
        },
        "id": "lkdXiA1WMBuT"
      },
      "outputs": [],
      "execution_count": null
    },
    {
      "cell_type": "code",
      "source": [
        "'''\n",
        "def compress_model(model_path):\n",
        "    zip_filename = model_path.replace('.h5', '.zip')\n",
        "    with zipfile.ZipFile(zip_filename, 'w', zipfile.ZIP_DEFLATED) as zipf:\n",
        "        zipf.write(model_path, os.path.basename(model_path))\n",
        "    return zip_filename\n",
        "compressed_model_path = compress_model('/kaggle/working/smoking_detection_model.h5')\n",
        "print(f\"Compressed model saved as: {compressed_model_path}\")\n",
        "print(os.listdir('/kaggle/working/'))\n",
        "'''"
      ],
      "metadata": {
        "_uuid": "dfc8db32-0098-4224-94f9-7cfc9e4ae081",
        "_cell_guid": "f47598a8-9127-46a8-a765-9deea7039022",
        "trusted": true,
        "jupyter": {
          "outputs_hidden": false
        },
        "execution": {
          "iopub.status.busy": "2025-02-21T12:29:54.236441Z",
          "iopub.execute_input": "2025-02-21T12:29:54.2367Z",
          "iopub.status.idle": "2025-02-21T12:29:54.264869Z",
          "shell.execute_reply.started": "2025-02-21T12:29:54.236662Z",
          "shell.execute_reply": "2025-02-21T12:29:54.264038Z"
        },
        "id": "46suDv8_MBuT"
      },
      "outputs": [],
      "execution_count": null
    },
    {
      "cell_type": "code",
      "source": [
        "file_path_acc_loss = '/kaggle/working/accuracy_loss_plot.png'\n",
        "acc = history.history['accuracy']\n",
        "val_acc = history.history['val_accuracy']\n",
        "loss = history.history['loss']\n",
        "val_loss = history.history['val_loss']\n",
        "\n",
        "epochs_range = range(len(acc))  # กำหนดจำนวน epoch ที่ใช้ฝึก\n",
        "\n",
        "# Plot Accuracy\n",
        "plt.figure(figsize=(12, 5))\n",
        "plt.subplot(1, 2, 1)\n",
        "plt.plot(epochs_range, acc, label='Training Accuracy', marker='o')\n",
        "plt.plot(epochs_range, val_acc, label='Validation Accuracy', marker='o')\n",
        "plt.legend(loc='lower right')\n",
        "plt.title('Training and Validation Accuracy')\n",
        "\n",
        "# Plot Loss\n",
        "plt.subplot(1, 2, 2)\n",
        "plt.plot(epochs_range, loss, label='Training Loss', marker='o')\n",
        "plt.plot(epochs_range, val_loss, label='Validation Loss', marker='o')\n",
        "plt.legend(loc='upper right')\n",
        "plt.title('Training and Validation Loss')\n",
        "\n",
        "plt.savefig(file_path_acc_loss)\n",
        "plt.close()"
      ],
      "metadata": {
        "_uuid": "8488ae99-b706-494c-b1e8-e7a59265ffd9",
        "_cell_guid": "757218b1-a751-4fe5-a7ba-8178dba736aa",
        "trusted": true,
        "jupyter": {
          "outputs_hidden": false
        },
        "execution": {
          "iopub.status.busy": "2025-02-21T14:08:37.434503Z",
          "iopub.execute_input": "2025-02-21T14:08:37.434955Z",
          "iopub.status.idle": "2025-02-21T14:08:37.665625Z",
          "shell.execute_reply.started": "2025-02-21T14:08:37.434912Z",
          "shell.execute_reply": "2025-02-21T14:08:37.664408Z"
        },
        "id": "h8iCrlhOMBuT"
      },
      "outputs": [],
      "execution_count": null
    }
  ]
}